{
 "cells": [
  {
   "cell_type": "code",
   "execution_count": 9,
   "metadata": {},
   "outputs": [
    {
     "name": "stdout",
     "output_type": "stream",
     "text": [
      "Mul on list [1,2,5] using custom reduce function 10\n"
     ]
    }
   ],
   "source": [
    "def myreduce(anyfunc, sequence):\n",
    "\n",
    "  result = sequence[0]\n",
    " # remaining items in sequence & apply reduction function \n",
    "  for item in sequence[1:]:\n",
    "   result = anyfunc(result, item)\n",
    "\n",
    "  return result\n",
    "def mul(x,y): return x * y\n",
    "print (\"Mul on list [1,2,5] using custom reduce function \"   + str(myreduce(mul, [1,2,5])) )"
   ]
  },
  {
   "cell_type": "code",
   "execution_count": 12,
   "metadata": {},
   "outputs": [
    {
     "name": "stdout",
     "output_type": "stream",
     "text": [
      "Filter only Odd Integers on list [0,1,-2,3,4,5] using custom filter function[1, 3, 5]\n"
     ]
    }
   ],
   "source": [
    "def myfilter(anyfunc, sequence):\n",
    " \n",
    " result = []\n",
    " # remaing sequence of items in sequence and apply filter function\n",
    " for item in sequence:\n",
    "  if anyfunc(item):\n",
    "   result.append(item)\n",
    "\n",
    " return result\n",
    "\n",
    "\n",
    "def isodd(x):\n",
    " if ((x%2)==0): \n",
    "  return False \n",
    " else: \n",
    "  return True\n",
    "print (\"Filter only Odd Integers on list [0,1,-2,3,4,5] using custom filter function\"  + str(myfilter(isodd, [0,1,-2,3,4,5])))"
   ]
  },
  {
   "cell_type": "code",
   "execution_count": 26,
   "metadata": {},
   "outputs": [
    {
     "name": "stdout",
     "output_type": "stream",
     "text": [
      "'ACADGILD': ['A', 'C', 'A', 'D', 'G', 'I', 'L', 'D']\n",
      "['x','y','z'] : ['x', 'xx', 'xxx', 'xxxx', 'y', 'yy', 'yyy', 'yyyy', 'z', 'zz', 'zzz', 'zzzz']\n",
      "['x','y','z'] : ['x', 'y', 'z', 'xx', 'yy', 'zz', 'xxx', 'yyy', 'zzz', 'xxxx', 'yyyy', 'zzzz']\n",
      "[2,3,4] :[[2], [3], [4], [3], [4], [5], [4], [5], [6]]\n",
      "[2,3,4,5] :[[2, 3, 4, 5], [3, 4, 5, 6], [4, 5, 6, 7], [5, 6, 7, 8]]\n",
      "[1,2,3] :[(1, 1), (1, 2), (1, 3), (2, 1), (2, 2), (2, 3), (3, 1), (3, 2), (3, 3)]\n"
     ]
    }
   ],
   "source": [
    "input_list_1 = []\n",
    "\n",
    "for letter in 'ACADGILD':\n",
    "    input_list_1.append(letter)\n",
    "\n",
    "print(\"'ACADGILD':\",list_1)\n",
    "\n",
    " #########\n",
    "    \n",
    "input_list_2 = ['x','y','z']\n",
    "result = [ item*num for item in input_list_2 for num in range(1,5)  ]\n",
    "print(\"['x','y','z'] : \" +   str(result))\n",
    "\n",
    "#########\n",
    "\n",
    "input_list_3 = ['x','y','z']\n",
    "result = [ item*num for num in range(1,5) for item in input_list_3  ]\n",
    "print(\"['x','y','z'] : \" +   str(result))\n",
    "\n",
    "#########\n",
    "\n",
    "input_list_4 = [2,3,4]\n",
    "result = [ [item+num] for item in input_list_4 for num in range(0,3)]\n",
    "print(\"[2,3,4] :\" +  str(result))\n",
    "\n",
    "#########\n",
    "\n",
    "input_list_5 = [2,3,4,5]\n",
    "result = [ [item+num for item in input_list_5] for num in range(0,4)  ]\n",
    "print(\"[2,3,4,5] :\" +  str(result))\n",
    "\n",
    "#########\n",
    "\n",
    "input_list_6=[1,2,3]\n",
    "result = [ (x,y) for x in input_list for y in input_list_6]\n",
    "print(\"[1,2,3] :\" +  str(result))\n"
   ]
  },
  {
   "cell_type": "code",
   "execution_count": 32,
   "metadata": {},
   "outputs": [
    {
     "name": "stdout",
     "output_type": "stream",
     "text": [
      "Some other\n"
     ]
    }
   ],
   "source": [
    "def longest_word(words_list):\n",
    "    word_len = []\n",
    "    for n in words_list:\n",
    "        word_len.append((len(n), n))\n",
    "    word_len.sort()\n",
    "    return word_len[-1][1]\n",
    "\n",
    "print(longest_word([\"Python\", \"C++\", \"Java\",\"Some other\"]))"
   ]
  },
  {
   "cell_type": "code",
   "execution_count": 34,
   "metadata": {},
   "outputs": [
    {
     "name": "stdout",
     "output_type": "stream",
     "text": [
      "Enter the value of a = 2.5\n",
      "Enter the value of b = 3.5\n",
      "Enter the value of c = 2.8\n",
      "area : 3.4696397507522323\n"
     ]
    }
   ],
   "source": [
    "class Triangle:\n",
    " \n",
    "    def __init__(self,a,b,c):\n",
    "        self.a = float(a)\n",
    "        self.b = float(b)\n",
    "        self.c = float(c)\n",
    " \n",
    "    def area(self):\n",
    "        s=(self.a + self.b + self.c)/2\n",
    "        return((s*(s-self.a)*(s-self.b)*(s-self.c))**0.5)\n",
    " \n",
    "\n",
    "a=input(\"Enter the value of a = \")\n",
    "b=input(\"Enter the value of b = \")\n",
    "c=input(\"Enter the value of c = \")\n",
    "t = Triangle(a, b, c)\n",
    "print(\"area : {}\".format(t.area()))"
   ]
  },
  {
   "cell_type": "code",
   "execution_count": 36,
   "metadata": {},
   "outputs": [
    {
     "name": "stdout",
     "output_type": "stream",
     "text": [
      "['Grin', 'like', 'Cheshire']\n"
     ]
    }
   ],
   "source": [
    "def long_words(n, str):  \n",
    "    word_len = []  \n",
    "    txt = str.split(\" \")  \n",
    "    for x in txt:  \n",
    "        if len(x) > n:  \n",
    "            word_len.append(x)  \n",
    "    return word_len   \n",
    "print(long_words(3, \"Grin like a Cheshire cat\"))  "
   ]
  },
  {
   "cell_type": "code",
   "execution_count": 37,
   "metadata": {},
   "outputs": [
    {
     "name": "stdout",
     "output_type": "stream",
     "text": [
      "word lengths in array :[23]\n"
     ]
    }
   ],
   "source": [
    "wordlis t = [\"Be\" \"full\" \"of\" \"the\" \"joys\" \"of\" \"spring\"]\n",
    "\n",
    "def wordlength(wordlist):\n",
    " return list(map(lambda x: len(x), wordlist))\n",
    "\n",
    "print (\"word lengths in array :\" + str(wordlength(wordlist)))"
   ]
  },
  {
   "cell_type": "code",
   "execution_count": 41,
   "metadata": {},
   "outputs": [
    {
     "name": "stdout",
     "output_type": "stream",
     "text": [
      "False\n",
      "False\n"
     ]
    }
   ],
   "source": [
    "def is_vowel(char):\n",
    "    all_vowels = 'aeiou'\n",
    "    return char in all_vowels\n",
    "print(is_vowel('b'))\n",
    "print(is_vowel('y'))"
   ]
  },
  {
   "cell_type": "code",
   "execution_count": null,
   "metadata": {},
   "outputs": [],
   "source": []
  }
 ],
 "metadata": {
  "kernelspec": {
   "display_name": "Python 3",
   "language": "python",
   "name": "python3"
  },
  "language_info": {
   "codemirror_mode": {
    "name": "ipython",
    "version": 3
   },
   "file_extension": ".py",
   "mimetype": "text/x-python",
   "name": "python",
   "nbconvert_exporter": "python",
   "pygments_lexer": "ipython3",
   "version": "3.7.6"
  }
 },
 "nbformat": 4,
 "nbformat_minor": 4
}
